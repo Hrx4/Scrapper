{
 "cells": [
  {
   "cell_type": "code",
   "execution_count": 1,
   "id": "d354ce2a",
   "metadata": {},
   "outputs": [],
   "source": [
    "import gradio as gr\n",
    "from openai import OpenAI\n",
    "import json\n",
    "\n"
   ]
  },
  {
   "cell_type": "code",
   "execution_count": 2,
   "id": "32c22a92",
   "metadata": {},
   "outputs": [],
   "source": [
    "openai = OpenAI(base_url=\"http://localhost:11434/v1\", api_key=\"ollama\")"
   ]
  },
  {
   "cell_type": "code",
   "execution_count": 3,
   "id": "10b24817",
   "metadata": {},
   "outputs": [],
   "source": [
    "system_message = \"You are a helpful assistant for an Airline called FlightAI. \"\n",
    "system_message += \"Give short, courteous answers, no more than 1 sentence. \"\n",
    "system_message += \"Always be accurate. If you don't know the answer, say so.\""
   ]
  },
  {
   "cell_type": "code",
   "execution_count": 4,
   "id": "d2ec7b51",
   "metadata": {},
   "outputs": [],
   "source": [
    "ticket_prices = {\"london\": \"$799\", \"paris\": \"$899\", \"tokyo\": \"$1400\", \"berlin\": \"$499\"}\n",
    "\n",
    "def get_ticket_price(destination_city):\n",
    "    print(f\"Tool get_ticket_price called for {destination_city}\")\n",
    "    city = destination_city.lower()\n",
    "    return ticket_prices.get(city, \"Unknown\")"
   ]
  },
  {
   "cell_type": "code",
   "execution_count": 5,
   "id": "5015f259",
   "metadata": {},
   "outputs": [],
   "source": [
    "price_function = {\n",
    "    \"name\": \"get_ticket_price\",\n",
    "    \"description\": \"Get the price of a return ticket to the destination city. Call this whenever you need to know the ticket price, for example when a customer asks 'How much is a ticket to this city'\",\n",
    "    \"parameters\": {\n",
    "        \"type\": \"object\",\n",
    "        \"properties\": {\n",
    "            \"destination_city\": {\n",
    "                \"type\": \"string\",\n",
    "                \"description\": \"The city that the customer wants to travel to\",\n",
    "            },\n",
    "        },\n",
    "        \"required\": [\"destination_city\"],\n",
    "        \"additionalProperties\": False\n",
    "    }\n",
    "}"
   ]
  },
  {
   "cell_type": "code",
   "execution_count": 6,
   "id": "61d02c31",
   "metadata": {},
   "outputs": [],
   "source": [
    "tools = [{\"type\" : \"function\" ,\"function\" : price_function}]"
   ]
  },
  {
   "cell_type": "code",
   "execution_count": 7,
   "id": "38a11702",
   "metadata": {},
   "outputs": [],
   "source": [
    "def handle_tool_call(message):\n",
    "    tool_call = message.tool_calls[0]\n",
    "    print(f\"Tool call: {tool_call.function.name} with arguments {tool_call.function.arguments}\")\n",
    "    arguments = json.loads(tool_call.function.arguments)\n",
    "    print(f\"Tool call arguments: {arguments}\")\n",
    "    city = arguments.get('destination_city')\n",
    "    price = get_ticket_price(city)\n",
    "    response = {\n",
    "        \"role\": \"tool\",\n",
    "        \"content\": json.dumps({\"destination_city\": city,\"price\": price}),\n",
    "        \"tool_call_id\": tool_call.id\n",
    "    }\n",
    "    return response"
   ]
  },
  {
   "cell_type": "code",
   "execution_count": 8,
   "id": "00406464",
   "metadata": {},
   "outputs": [],
   "source": [
    "def chat(message, history):\n",
    "    messages = [{\"role\": \"system\", \"content\": system_message}] + history + [{\"role\": \"user\", \"content\": message}]\n",
    "    response = openai.chat.completions.create(model=\"llama3.1\", messages=messages, tools=tools)\n",
    "    print(response)\n",
    "\n",
    "    if response.choices[0].finish_reason==\"tool_calls\":\n",
    "        message = response.choices[0].message\n",
    "        response = handle_tool_call(message)\n",
    "        messages.append(message)\n",
    "        messages.append(response)\n",
    "        print(messages)\n",
    "        response = openai.chat.completions.create(model=\"llama3.1\", messages=messages)\n",
    "    final_text = response.choices[0].message.content\n",
    "    # if \"<think>\" in final_text:\n",
    "    #     final_text = final_text.split(\"</think>\")[-1].strip()\n",
    "    return  final_text\n",
    "\n",
    "\n",
    "\n",
    "\n",
    "\n",
    "# def chat(message, history):\n",
    "#     messages = [{\"role\": \"system\", \"content\": system_message}] + history + [{\"role\": \"user\", \"content\": message}]\n",
    "    \n",
    "#     response = openai.chat.completions.create(\n",
    "#         model=\"llama3.1\",\n",
    "#         messages=messages\n",
    "#     )\n",
    "    \n",
    "#     final_text = response.choices[0].message.content\n",
    "    \n",
    "#     # Remove <think> ... </think> part if present\n",
    "#     if \"<think>\" in final_text:\n",
    "#         final_text = final_text.split(\"</think>\")[-1].strip()\n",
    "    \n",
    "#     return final_text"
   ]
  },
  {
   "cell_type": "code",
   "execution_count": null,
   "id": "386e0a5e",
   "metadata": {},
   "outputs": [
    {
     "name": "stdout",
     "output_type": "stream",
     "text": [
      "* Running on local URL:  http://127.0.0.1:7860\n",
      "* To create a public link, set `share=True` in `launch()`.\n"
     ]
    },
    {
     "data": {
      "text/html": [
       "<div><iframe src=\"http://127.0.0.1:7860/\" width=\"100%\" height=\"500\" allow=\"autoplay; camera; microphone; clipboard-read; clipboard-write;\" frameborder=\"0\" allowfullscreen></iframe></div>"
      ],
      "text/plain": [
       "<IPython.core.display.HTML object>"
      ]
     },
     "metadata": {},
     "output_type": "display_data"
    },
    {
     "data": {
      "text/plain": []
     },
     "execution_count": 9,
     "metadata": {},
     "output_type": "execute_result"
    },
    {
     "name": "stdout",
     "output_type": "stream",
     "text": [
      "ChatCompletion(id='chatcmpl-366', choices=[Choice(finish_reason='tool_calls', index=0, logprobs=None, message=ChatCompletionMessage(content='', refusal=None, role='assistant', annotations=None, audio=None, function_call=None, tool_calls=[ChatCompletionMessageFunctionToolCall(id='call_lafd60rl', function=Function(arguments='{\"destination_city\":\"None\"}', name='get_ticket_price'), type='function', index=0)]))], created=1755500468, model='llama3.1', object='chat.completion', service_tier=None, system_fingerprint='fp_ollama', usage=CompletionUsage(completion_tokens=19, prompt_tokens=241, total_tokens=260, completion_tokens_details=None, prompt_tokens_details=None))\n",
      "Tool call: get_ticket_price with arguments {\"destination_city\":\"None\"}\n",
      "Tool call arguments: {'destination_city': 'None'}\n",
      "Tool get_ticket_price called for None\n",
      "[{'role': 'system', 'content': \"You are a helpful assistant for an Airline called FlightAI. Give short, courteous answers, no more than 1 sentence. Always be accurate. If you don't know the answer, say so.\"}, {'role': 'user', 'content': 'hi'}, ChatCompletionMessage(content='', refusal=None, role='assistant', annotations=None, audio=None, function_call=None, tool_calls=[ChatCompletionMessageFunctionToolCall(id='call_lafd60rl', function=Function(arguments='{\"destination_city\":\"None\"}', name='get_ticket_price'), type='function', index=0)]), {'role': 'tool', 'content': '{\"destination_city\": \"None\", \"price\": \"Unknown\"}', 'tool_call_id': 'call_lafd60rl'}]\n",
      "ChatCompletion(id='chatcmpl-441', choices=[Choice(finish_reason='tool_calls', index=0, logprobs=None, message=ChatCompletionMessage(content='', refusal=None, role='assistant', annotations=None, audio=None, function_call=None, tool_calls=[ChatCompletionMessageFunctionToolCall(id='call_r1rb4zkd', function=Function(arguments='{\"destination_city\":\"berlin\"}', name='get_ticket_price'), type='function', index=0)]))], created=1755500495, model='llama3.1', object='chat.completion', service_tier=None, system_fingerprint='fp_ollama', usage=CompletionUsage(completion_tokens=20, prompt_tokens=266, total_tokens=286, completion_tokens_details=None, prompt_tokens_details=None))\n",
      "Tool call: get_ticket_price with arguments {\"destination_city\":\"berlin\"}\n",
      "Tool call arguments: {'destination_city': 'berlin'}\n",
      "Tool get_ticket_price called for berlin\n",
      "[{'role': 'system', 'content': \"You are a helpful assistant for an Airline called FlightAI. Give short, courteous answers, no more than 1 sentence. Always be accurate. If you don't know the answer, say so.\"}, {'role': 'user', 'metadata': None, 'content': 'hi', 'options': None}, {'role': 'assistant', 'metadata': None, 'content': 'Welcome to FlightAI! How can I assist you today?', 'options': None}, {'role': 'user', 'content': 'price of berlin'}, ChatCompletionMessage(content='', refusal=None, role='assistant', annotations=None, audio=None, function_call=None, tool_calls=[ChatCompletionMessageFunctionToolCall(id='call_r1rb4zkd', function=Function(arguments='{\"destination_city\":\"berlin\"}', name='get_ticket_price'), type='function', index=0)]), {'role': 'tool', 'content': '{\"destination_city\": \"berlin\", \"price\": \"$499\"}', 'tool_call_id': 'call_r1rb4zkd'}]\n"
     ]
    }
   ],
   "source": [
    "gr.ChatInterface(fn=chat , type=\"messages\").launch()"
   ]
  }
 ],
 "metadata": {
  "kernelspec": {
   "display_name": "base",
   "language": "python",
   "name": "python3"
  },
  "language_info": {
   "codemirror_mode": {
    "name": "ipython",
    "version": 3
   },
   "file_extension": ".py",
   "mimetype": "text/x-python",
   "name": "python",
   "nbconvert_exporter": "python",
   "pygments_lexer": "ipython3",
   "version": "3.13.5"
  }
 },
 "nbformat": 4,
 "nbformat_minor": 5
}
